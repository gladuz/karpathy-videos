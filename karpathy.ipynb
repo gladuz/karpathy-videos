{
 "cells": [
  {
   "cell_type": "code",
   "execution_count": 1,
   "id": "ce78e74f-061e-40de-82c3-8e61b08de8ff",
   "metadata": {},
   "outputs": [],
   "source": [
    "import math\n",
    "import numpy as np\n",
    "import matplotlib.pyplot as plt\n",
    "%matplotlib inline"
   ]
  },
  {
   "cell_type": "code",
   "execution_count": 7,
   "id": "d82e2a92-11d5-4d86-b08a-d9cc3ae8d62f",
   "metadata": {},
   "outputs": [],
   "source": [
    "class Value:\n",
    "    \n",
    "    def __init__(self, data, _children=(), _op=''):\n",
    "        self.data = data\n",
    "        self._children = set(_children)\n",
    "        self._op = _op\n",
    "    \n",
    "    def __repr__(self):\n",
    "        return f'Value=({self.data})'\n",
    "    \n",
    "    def __add__(self, other):\n",
    "        return Value(self.data+other.data, (self, other), '+')\n",
    "    \n",
    "    def __mul__(self, other):\n",
    "        return Value(self.data+other.data, (self, other), '+')\n",
    "    "
   ]
  },
  {
   "cell_type": "code",
   "execution_count": 31,
   "id": "bed7b29e-a475-4da7-8b27-303db4cd141a",
   "metadata": {},
   "outputs": [
    {
     "data": {
      "text/plain": [
       "{Value=(0.2), Value=(0.3)}"
      ]
     },
     "execution_count": 31,
     "metadata": {},
     "output_type": "execute_result"
    }
   ],
   "source": [
    "a = Value(0.2)\n",
    "b = Value(0.3)\n",
    "c = Value(0.7)\n",
    "list(((a+b) + c)._children)[0]._children"
   ]
  },
  {
   "cell_type": "code",
   "execution_count": null,
   "id": "d6a8297f-9f65-4d65-ae65-ed7bfab6e4d7",
   "metadata": {},
   "outputs": [],
   "source": []
  }
 ],
 "metadata": {
  "kernelspec": {
   "display_name": "Pytorch 1.9 | Jupyterhub",
   "language": "python",
   "name": "pytorch19"
  },
  "language_info": {
   "codemirror_mode": {
    "name": "ipython",
    "version": 3
   },
   "file_extension": ".py",
   "mimetype": "text/x-python",
   "name": "python",
   "nbconvert_exporter": "python",
   "pygments_lexer": "ipython3",
   "version": "3.8.10"
  }
 },
 "nbformat": 4,
 "nbformat_minor": 5
}
